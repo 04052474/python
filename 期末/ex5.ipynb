{
 "cells": [
  {
   "cell_type": "code",
   "execution_count": 24,
   "metadata": {},
   "outputs": [
    {
     "name": "stdout",
     "output_type": "stream",
     "text": [
      "0.921\n",
      "0.988\n",
      "0.999\n",
      "0.738\n",
      "0.858\n"
     ]
    }
   ],
   "source": [
    "def CosSimilarity(a,b):\n",
    "    up=0\n",
    "    a_add=0\n",
    "    b_add=0\n",
    "    down=0\n",
    "    ans=0\n",
    "    for i in range(len(a)):\n",
    "        up+=a[i]*b[i]\n",
    "    for i in range(len(a)):\n",
    "        a_add+=(a[i]*a[i])\n",
    "    a_add=a_add**0.5\n",
    "    for i in range(len(b)):\n",
    "        b_add+=(b[i]*b[i])\n",
    "    b_add=b_add**0.5\n",
    "    down=a_add*b_add\n",
    "    \n",
    "    ans=up/down\n",
    "    ans=round(ans,3)\n",
    "    return ans\n",
    "\n",
    "print(CosSimilarity([4.91, 3.2, 1.58, 0.19], [5.85, 3.12, 4.78, 1.6]))\n",
    "print(CosSimilarity([7.6, 2.56, 6.89, 2.2 ], [5.85, 3.12, 4.78, 1.6]))\n",
    "print(CosSimilarity([7.6, 2.2 ], [4.78, 1.6]))\n",
    "print(CosSimilarity([2.56, 6.89], [3.12, 1.6]))\n",
    "print(CosSimilarity([4.91, 3.2, 1.58, 0.19, 3.2, 2], [8.2, 5.85, 3.12, 4.78, 1.6, 1]))\n",
    "\n",
    "\n"
   ]
  }
 ],
 "metadata": {
  "kernelspec": {
   "display_name": "Python 3",
   "language": "python",
   "name": "python3"
  },
  "language_info": {
   "codemirror_mode": {
    "name": "ipython",
    "version": 3
   },
   "file_extension": ".py",
   "mimetype": "text/x-python",
   "name": "python",
   "nbconvert_exporter": "python",
   "pygments_lexer": "ipython3",
   "version": "3.7.1"
  }
 },
 "nbformat": 4,
 "nbformat_minor": 2
}
