{
 "cells": [
  {
   "cell_type": "code",
   "execution_count": 5,
   "metadata": {},
   "outputs": [
    {
     "name": "stdout",
     "output_type": "stream",
     "text": [
      "*******\n",
      "*      \n",
      "****** \n",
      "*      \n",
      "*      \n",
      "*      \n",
      "*      \n"
     ]
    }
   ],
   "source": [
    "for row in range(0,7):\n",
    "     for col in range(0,7):\n",
    "        if row==0:\n",
    "            print('*',end='')\n",
    "            if col==6:\n",
    "                print(end='\\n')\n",
    "\n",
    "        elif row==2:\n",
    "            if col>5:\n",
    "                print(' ',end='')\n",
    "            if col<=5:\n",
    "                print('*',end='')\n",
    "            if col==6:\n",
    "                print(end='\\n')\n",
    "        else:\n",
    "            if col==0:\n",
    "                print('*',end='')\n",
    "            elif col==6:\n",
    "                print(' ',end='')\n",
    "                print(end='\\n')\n",
    "            else:\n",
    "                print(' ',end='')"
   ]
  }
 ],
 "metadata": {
  "kernelspec": {
   "display_name": "Python 3",
   "language": "python",
   "name": "python3"
  },
  "language_info": {
   "codemirror_mode": {
    "name": "ipython",
    "version": 3
   },
   "file_extension": ".py",
   "mimetype": "text/x-python",
   "name": "python",
   "nbconvert_exporter": "python",
   "pygments_lexer": "ipython3",
   "version": "3.7.1"
  }
 },
 "nbformat": 4,
 "nbformat_minor": 2
}
