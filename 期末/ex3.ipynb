{
 "cells": [
  {
   "cell_type": "code",
   "execution_count": 18,
   "metadata": {},
   "outputs": [
    {
     "name": "stdout",
     "output_type": "stream",
     "text": [
      "['stringed', 'readed']\n",
      "['abcedly', 'goodlyed']\n",
      "['electedly', 'circuited']\n",
      "['bringed', 'booked']\n",
      "['tryinged', 'worked']\n"
     ]
    }
   ],
   "source": [
    "def add_string(str1):\n",
    "    output=[]\n",
    "    str1=str1.split(\" \")\n",
    "    for string in str1:\n",
    "\n",
    "        if string[-2:]==\"ed\":\n",
    "            string+=\"ly\"\n",
    "            output.append(string)\n",
    "        else:\n",
    "            string+=\"ed\"\n",
    "            output.append(string)\n",
    "    return output\n",
    "print(add_string('string read'))\n",
    "print(add_string('abced goodly'))\n",
    "print(add_string('elected circuit'))\n",
    "print(add_string('bring book'))\n",
    "print(add_string('trying work'))\n",
    "\n"
   ]
  }
 ],
 "metadata": {
  "kernelspec": {
   "display_name": "Python 3",
   "language": "python",
   "name": "python3"
  },
  "language_info": {
   "codemirror_mode": {
    "name": "ipython",
    "version": 3
   },
   "file_extension": ".py",
   "mimetype": "text/x-python",
   "name": "python",
   "nbconvert_exporter": "python",
   "pygments_lexer": "ipython3",
   "version": "3.7.1"
  }
 },
 "nbformat": 4,
 "nbformat_minor": 2
}
