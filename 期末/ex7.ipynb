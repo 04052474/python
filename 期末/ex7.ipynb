{
 "cells": [
  {
   "cell_type": "code",
   "execution_count": 7,
   "metadata": {},
   "outputs": [
    {
     "name": "stdout",
     "output_type": "stream",
     "text": [
      "(13, 67)\n",
      "(7, 37, 237)\n",
      "(11, 203, 77)\n",
      "(2, 6, 26)\n",
      "(17, 123)\n"
     ]
    }
   ],
   "source": [
    "def remove_5t(num):\n",
    "    output=[]\n",
    "    for number in num:\n",
    "        if number%4!=0 and number%5!=0:\n",
    "            output.append(number)\n",
    "    output=tuple(output)\n",
    "    return output\n",
    "print(remove_5t([13,32, 116, 24, 67]))\n",
    "print(remove_5t([7,12, 37, 4, 237]))\n",
    "print(remove_5t([11, 203, 77, 55, 40]))\n",
    "print(remove_5t([2,6, 26, 255, 765]))\n",
    "print(remove_5t([24, 16, 17, 56, 123]))\n",
    "\n"
   ]
  }
 ],
 "metadata": {
  "kernelspec": {
   "display_name": "Python 3",
   "language": "python",
   "name": "python3"
  },
  "language_info": {
   "codemirror_mode": {
    "name": "ipython",
    "version": 3
   },
   "file_extension": ".py",
   "mimetype": "text/x-python",
   "name": "python",
   "nbconvert_exporter": "python",
   "pygments_lexer": "ipython3",
   "version": "3.7.1"
  }
 },
 "nbformat": 4,
 "nbformat_minor": 2
}
