{
 "cells": [
  {
   "cell_type": "code",
   "execution_count": 5,
   "metadata": {},
   "outputs": [
    {
     "name": "stdout",
     "output_type": "stream",
     "text": [
      "[20.0, 10.5, 6.5, 6.0, 4.0]\n",
      "[-15.0, -25.0, -17.0, 16.5, 22.0]\n",
      "[7.5, 13.5, 34.5, 31.0, 24.0]\n",
      "[31.0, 201.0, 201.5, 5.5, 10.0]\n",
      "[11.0, 22.5, 49.5, 36.0, 148.5]\n"
     ]
    }
   ],
   "source": [
    "def prod_in_list(list):\n",
    "    output=[]\n",
    "    for i in range(0,len(list)):\n",
    "        if i==len(list)-1:\n",
    "            break\n",
    "        output.append((list[i]+list[i+1])/2)\n",
    "    \n",
    "    return output\n",
    "print(prod_in_list([27, 13, 8, 5, 7, 1]))\n",
    "print(prod_in_list([-20, -10, -40, 6, 27, 17]))\n",
    "print(prod_in_list([2, 13, 14, 55, 7, 41]))\n",
    "print(prod_in_list([60, 2, 400, 3, 8, 12]))\n",
    "print(prod_in_list([21, 1, 44, 55, 17, 280]))\n",
    "\n",
    "\n",
    "\n"
   ]
  }
 ],
 "metadata": {
  "kernelspec": {
   "display_name": "Python 3",
   "language": "python",
   "name": "python3"
  },
  "language_info": {
   "codemirror_mode": {
    "name": "ipython",
    "version": 3
   },
   "file_extension": ".py",
   "mimetype": "text/x-python",
   "name": "python",
   "nbconvert_exporter": "python",
   "pygments_lexer": "ipython3",
   "version": "3.7.1"
  }
 },
 "nbformat": 4,
 "nbformat_minor": 2
}
