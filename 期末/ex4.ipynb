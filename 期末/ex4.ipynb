{
 "cells": [
  {
   "cell_type": "code",
   "execution_count": 8,
   "metadata": {},
   "outputs": [
    {
     "data": {
      "text/plain": [
       "{1: 0.8775825618903728,\n",
       " 2: 0.5403023058681398,\n",
       " 3: 0.0707372016677029,\n",
       " 4: -0.4161468365471424,\n",
       " 5: -0.8011436155469337}"
      ]
     },
     "execution_count": 8,
     "metadata": {},
     "output_type": "execute_result"
    }
   ],
   "source": [
    "import math\n",
    "def generateDict(n):\n",
    "    ans={}\n",
    "    for i in range(1,n+1):\n",
    "        ans[i]=math.cos(i/2)\n",
    "    return ans\n",
    "generateDict(5)"
   ]
  }
 ],
 "metadata": {
  "kernelspec": {
   "display_name": "Python 3",
   "language": "python",
   "name": "python3"
  },
  "language_info": {
   "codemirror_mode": {
    "name": "ipython",
    "version": 3
   },
   "file_extension": ".py",
   "mimetype": "text/x-python",
   "name": "python",
   "nbconvert_exporter": "python",
   "pygments_lexer": "ipython3",
   "version": "3.7.1"
  }
 },
 "nbformat": 4,
 "nbformat_minor": 2
}
