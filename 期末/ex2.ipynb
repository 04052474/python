{
 "cells": [
  {
   "cell_type": "code",
   "execution_count": 10,
   "metadata": {},
   "outputs": [
    {
     "name": "stdout",
     "output_type": "stream",
     "text": [
      "$I\n",
      "H$\n",
      "$ODE\n",
      "COD$\n",
      "CHOCOLAT$\n"
     ]
    }
   ],
   "source": [
    "def missing_char(str, n):\n",
    "    str=str.upper()\n",
    "    output=\"\"\n",
    "    for i in range(0,len(str)):\n",
    "        if i==n:\n",
    "            output+=\"$\"\n",
    "            continue\n",
    "        output+=str[i]\n",
    "    return output\n",
    "print(missing_char('Hi', 0))\n",
    "print(missing_char('Hi', 1))\n",
    "print(missing_char('code', 0))\n",
    "print(missing_char('code', 3))\n",
    "print(missing_char('chocolate', 8))\n",
    "\n"
   ]
  }
 ],
 "metadata": {
  "kernelspec": {
   "display_name": "Python 3",
   "language": "python",
   "name": "python3"
  },
  "language_info": {
   "codemirror_mode": {
    "name": "ipython",
    "version": 3
   },
   "file_extension": ".py",
   "mimetype": "text/x-python",
   "name": "python",
   "nbconvert_exporter": "python",
   "pygments_lexer": "ipython3",
   "version": "3.7.1"
  }
 },
 "nbformat": 4,
 "nbformat_minor": 2
}
