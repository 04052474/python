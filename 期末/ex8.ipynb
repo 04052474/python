{
 "cells": [
  {
   "cell_type": "code",
   "execution_count": 21,
   "metadata": {},
   "outputs": [
    {
     "name": "stdout",
     "output_type": "stream",
     "text": [
      "[[0. 0. 0. 0. 0. 0. 0. 0.]\n",
      " [0. 0. 0. 0. 0. 0. 0. 0.]\n",
      " [0. 0. 0. 0. 0. 0. 0. 0.]\n",
      " [0. 0. 0. 0. 0. 0. 0. 0.]\n",
      " [0. 0. 0. 0. 0. 0. 0. 0.]\n",
      " [0. 0. 0. 0. 0. 0. 0. 0.]\n",
      " [0. 0. 0. 0. 0. 0. 0. 0.]\n",
      " [0. 0. 0. 0. 0. 0. 0. 0.]]\n",
      "[[0. 0. 0. 0. 0. 0. 0. 0.]\n",
      " [0. 2. 2. 2. 2. 2. 2. 0.]\n",
      " [0. 2. 2. 2. 2. 2. 2. 0.]\n",
      " [0. 2. 2. 2. 2. 2. 2. 0.]\n",
      " [0. 2. 2. 2. 2. 2. 2. 0.]\n",
      " [0. 2. 2. 2. 2. 2. 2. 0.]\n",
      " [0. 2. 2. 2. 2. 2. 2. 0.]\n",
      " [0. 0. 0. 0. 0. 0. 0. 0.]]\n",
      "[[0. 0. 0. 0. 0. 0. 0. 0.]\n",
      " [0. 2. 2. 2. 2. 2. 2. 0.]\n",
      " [0. 2. 4. 4. 4. 4. 2. 0.]\n",
      " [0. 2. 4. 4. 4. 4. 2. 0.]\n",
      " [0. 2. 4. 4. 4. 4. 2. 0.]\n",
      " [0. 2. 4. 4. 4. 4. 2. 0.]\n",
      " [0. 2. 2. 2. 2. 2. 2. 0.]\n",
      " [0. 0. 0. 0. 0. 0. 0. 0.]]\n",
      "[[0. 0. 0. 0. 0. 0. 0. 0.]\n",
      " [0. 2. 2. 2. 2. 2. 2. 0.]\n",
      " [0. 2. 4. 4. 4. 4. 2. 0.]\n",
      " [0. 2. 4. 6. 6. 4. 2. 0.]\n",
      " [0. 2. 4. 6. 6. 4. 2. 0.]\n",
      " [0. 2. 4. 4. 4. 4. 2. 0.]\n",
      " [0. 2. 2. 2. 2. 2. 2. 0.]\n",
      " [0. 0. 0. 0. 0. 0. 0. 0.]]\n"
     ]
    }
   ],
   "source": [
    "import numpy as np\n",
    "np1=np.zeros((8,8))\n",
    "print(np1)\n",
    "for row in range(0,len(np1)):\n",
    "    for col in range(0,len(np1)):\n",
    "        if row!=0 and row!=len(np1)-1 and col!=0 and col!=len(np1)-1:\n",
    "            np1[row][col]=2\n",
    "print(np1)\n",
    "for row in range(0,len(np1)):\n",
    "    for col in range(0,len(np1)):\n",
    "        if row!=0 and row!=len(np1)-1 and col!=0 and col!=len(np1)-1:\n",
    "            if row!=1 and row!=len(np1)-2 and col!=1 and col!=len(np1)-2:\n",
    "                np1[row][col]=4\n",
    "print(np1)\n",
    "for row in range(0,len(np1)):\n",
    "    for col in range(0,len(np1)):\n",
    "        if row!=0 and row!=len(np1)-1 and col!=0 and col!=len(np1)-1:\n",
    "            if row!=1 and row!=len(np1)-2 and col!=1 and col!=len(np1)-2:\n",
    "                if row!=2 and row!=len(np1)-3 and col!=2 and col!=len(np1)-3:\n",
    "                    np1[row][col]=6\n",
    "print(np1)"
   ]
  }
 ],
 "metadata": {
  "kernelspec": {
   "display_name": "Python 3",
   "language": "python",
   "name": "python3"
  },
  "language_info": {
   "codemirror_mode": {
    "name": "ipython",
    "version": 3
   },
   "file_extension": ".py",
   "mimetype": "text/x-python",
   "name": "python",
   "nbconvert_exporter": "python",
   "pygments_lexer": "ipython3",
   "version": "3.7.1"
  }
 },
 "nbformat": 4,
 "nbformat_minor": 2
}
