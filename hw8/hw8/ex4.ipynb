{
 "cells": [
  {
   "cell_type": "code",
   "execution_count": 2,
   "metadata": {},
   "outputs": [
    {
     "name": "stdout",
     "output_type": "stream",
     "text": [
      "{1: 2, 2: 8, 3: 18}\n",
      "{1: 2, 2: 8, 3: 18, 4: 32, 5: 50, 6: 72, 7: 98, 8: 128, 9: 162, 10: 200}\n"
     ]
    }
   ],
   "source": [
    "def generateDict(n):\n",
    "    d={}\n",
    "    for i in range(1,n+1):\n",
    "        d[i]=2*i*i\n",
    "    \n",
    "    return d\n",
    "\n",
    "print(generateDict(3))\n",
    "print(generateDict(10))\n",
    "\n"
   ]
  }
 ],
 "metadata": {
  "kernelspec": {
   "display_name": "Python 3",
   "language": "python",
   "name": "python3"
  },
  "language_info": {
   "codemirror_mode": {
    "name": "ipython",
    "version": 3
   },
   "file_extension": ".py",
   "mimetype": "text/x-python",
   "name": "python",
   "nbconvert_exporter": "python",
   "pygments_lexer": "ipython3",
   "version": "3.7.1"
  }
 },
 "nbformat": 4,
 "nbformat_minor": 2
}
