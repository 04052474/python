{
 "cells": [
  {
   "cell_type": "code",
   "execution_count": 5,
   "metadata": {},
   "outputs": [
    {
     "name": "stdout",
     "output_type": "stream",
     "text": [
      "Member: John -> Tel: 938457566\n",
      "Member: Peter -> Tel: 928377464\n",
      "Member: Mary -> Tel: 941662781\n",
      "Member: Jill -> Tel: 928662781\n"
     ]
    }
   ],
   "source": [
    "Adict = {'John': 938457566, 'Peter': 928377464, 'Mary': 941662781, \"Jill\" : 928662781}\n",
    "for name, number in Adict.items():\n",
    "     print(\"Member: %s -> Tel: %d\" % (name, number))"
   ]
  }
 ],
 "metadata": {
  "kernelspec": {
   "display_name": "Python 3",
   "language": "python",
   "name": "python3"
  },
  "language_info": {
   "codemirror_mode": {
    "name": "ipython",
    "version": 3
   },
   "file_extension": ".py",
   "mimetype": "text/x-python",
   "name": "python",
   "nbconvert_exporter": "python",
   "pygments_lexer": "ipython3",
   "version": "3.7.1"
  }
 },
 "nbformat": 4,
 "nbformat_minor": 2
}
