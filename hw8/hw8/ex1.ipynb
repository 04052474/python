{
 "cells": [
  {
   "cell_type": "code",
   "execution_count": 1,
   "metadata": {},
   "outputs": [
    {
     "name": "stdout",
     "output_type": "stream",
     "text": [
      "Jake is listed in the Adict.\n",
      "Jill is not listed in the Adict.\n"
     ]
    }
   ],
   "source": [
    "Adict = {'John': 938457566, 'Peter': 928377464, 'Mary': 941662781, \"Jill\" : 928662781}\n",
    "\n",
    "# write your code here\n",
    "Adict['Jake']=928544322\n",
    "del Adict['Jill']\n",
    "\n",
    "\n",
    "# testing code\n",
    "if \"Jake\" in Adict:\n",
    "    print(\"Jake is listed in the Adict.\")\n",
    "if \"Jill\" not in Adict:\n",
    "    print(\"Jill is not listed in the Adict.\")\n"
   ]
  }
 ],
 "metadata": {
  "kernelspec": {
   "display_name": "Python 3",
   "language": "python",
   "name": "python3"
  },
  "language_info": {
   "codemirror_mode": {
    "name": "ipython",
    "version": 3
   },
   "file_extension": ".py",
   "mimetype": "text/x-python",
   "name": "python",
   "nbconvert_exporter": "python",
   "pygments_lexer": "ipython3",
   "version": "3.7.1"
  }
 },
 "nbformat": 4,
 "nbformat_minor": 2
}
