{
 "cells": [
  {
   "cell_type": "code",
   "execution_count": 6,
   "metadata": {},
   "outputs": [
    {
     "name": "stdout",
     "output_type": "stream",
     "text": [
      "{'n1': [1, 2, 3, 7, 9], 'n2': [1, 2, 5, 8, 13], 'n3': [2, 3, 4, 6, 9]}\n"
     ]
    }
   ],
   "source": [
    "num = {'n1': [2, 3, 7, 9, 1], 'n2': [5, 1, 2, 8, 13], 'n3': [3, 2, 4, 6, 9]}\n",
    "for name,number in num.items():\n",
    "    num[name].sort()\n",
    "print(num)"
   ]
  },
  {
   "cell_type": "code",
   "execution_count": 12,
   "metadata": {},
   "outputs": [
    {
     "name": "stdout",
     "output_type": "stream",
     "text": [
      "{'n1': [1, 2, 3, 7, 9], 'n2': [1, 2, 5, 8, 13], 'n3': [2, 3, 4, 6, 9]}\n"
     ]
    }
   ],
   "source": [
    "num = {'n1': [2, 3, 7, 9, 1], 'n2': [5, 1, 2, 8, 13], 'n3': [3, 2, 4, 6, 9]}\n",
    "[ num[name].sort() for name,number in num.items()]\n",
    "\n",
    "print(num)"
   ]
  }
 ],
 "metadata": {
  "kernelspec": {
   "display_name": "Python 3",
   "language": "python",
   "name": "python3"
  },
  "language_info": {
   "codemirror_mode": {
    "name": "ipython",
    "version": 3
   },
   "file_extension": ".py",
   "mimetype": "text/x-python",
   "name": "python",
   "nbconvert_exporter": "python",
   "pygments_lexer": "ipython3",
   "version": "3.7.1"
  }
 },
 "nbformat": 4,
 "nbformat_minor": 2
}
