{
 "cells": [
  {
   "cell_type": "code",
   "execution_count": 1,
   "metadata": {},
   "outputs": [
    {
     "name": "stdout",
     "output_type": "stream",
     "text": [
      "C= {'h': 104, 'o': 111, 'g': 103, 'e': 101, 'n': 110}\n"
     ]
    }
   ],
   "source": [
    "str = 'hogen'\n",
    "A=list(str)\n",
    "B=[]\n",
    "for i in A:\n",
    "    B.append(ord(i))\n",
    "C=dict(zip(A,B))\n",
    "print('C=',C)"
   ]
  }
 ],
 "metadata": {
  "kernelspec": {
   "display_name": "Python 3",
   "language": "python",
   "name": "python3"
  },
  "language_info": {
   "codemirror_mode": {
    "name": "ipython",
    "version": 3
   },
   "file_extension": ".py",
   "mimetype": "text/x-python",
   "name": "python",
   "nbconvert_exporter": "python",
   "pygments_lexer": "ipython3",
   "version": "3.7.1"
  }
 },
 "nbformat": 4,
 "nbformat_minor": 2
}
