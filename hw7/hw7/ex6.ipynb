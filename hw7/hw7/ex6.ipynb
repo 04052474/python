{
 "cells": [
  {
   "cell_type": "code",
   "execution_count": 16,
   "metadata": {},
   "outputs": [
    {
     "name": "stdout",
     "output_type": "stream",
     "text": [
      "('E', 'm', 'b', 'd', 'e', 'd', 'S', 'y', 't', 'e', 'm')\n",
      "('1', '2', '3', '5', '6', '7', '8', '9', '11', '12', '13')\n",
      "(7, 5, 4, 2, 5, 6, 2, '4', '3', 1)\n",
      "('P', 'y', 't', 'o', 'n', 'o', 'r', 'k')\n",
      "('m', 'a', 't', 'a', 'b', 'i', 'y', 's')\n"
     ]
    }
   ],
   "source": [
    "def tuplexEdit(tuplex):\n",
    "    tuplex=list(tuplex)\n",
    "    tuplex.pop(3)\n",
    "    tuplex.pop(-4)\n",
    "    tuplex=tuple(tuplex)\n",
    "    return tuplex\n",
    "    \n",
    "print(tuplexEdit((\"E\", \"m\", \"b\", \"e\", \"d\", \"e\", \"d\", \"S\", \"y\", \"s\", \"t\", \"e\", \"m\")))\n",
    "print(tuplexEdit((\"1\", \"2\", \"3\", \"4\", \"5\", \"6\", \"7\", \"8\", \"9\", \"10\", \"11\", \"12\", \"13\")))\n",
    "print(tuplexEdit((7, 5, 4, 41, 2, 5, 6, 2, \"y\", \"4\", \"3\", 1)))\n",
    "print(tuplexEdit((\"P\", \"y\", \"t\", \"h\", \"o\", \"n\", \"w\", \"o\", \"r\", \"k\")))\n",
    "print(tuplexEdit((\"m\", \"a\", \"t\", \"l\", \"a\", \"b\", \"d\", \"i\", \"y\", \"s\")))\n"
   ]
  }
 ],
 "metadata": {
  "kernelspec": {
   "display_name": "Python 3",
   "language": "python",
   "name": "python3"
  },
  "language_info": {
   "codemirror_mode": {
    "name": "ipython",
    "version": 3
   },
   "file_extension": ".py",
   "mimetype": "text/x-python",
   "name": "python",
   "nbconvert_exporter": "python",
   "pygments_lexer": "ipython3",
   "version": "3.7.1"
  }
 },
 "nbformat": 4,
 "nbformat_minor": 2
}
