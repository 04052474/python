{
 "cells": [
  {
   "cell_type": "code",
   "execution_count": 16,
   "metadata": {},
   "outputs": [
    {
     "name": "stdout",
     "output_type": "stream",
     "text": [
      "[(10, 20, 100), (40, 50, 100), (70, 80, 100)]\n",
      "[(20, 100), (400, 100), (70, 100), (2, 100)]\n",
      "[(100, 100), (140, 350, 100)]\n",
      "[(210, 220, 33, 100), (400, 150, 100), (1170, 100)]\n",
      "[(100,), (400, 150, 77, 1170, 100)]\n"
     ]
    }
   ],
   "source": [
    "def lsttuple(lst):\n",
    "    for i in range(len(lst)):\n",
    "        lst[i]=list(lst[i])\n",
    "        \n",
    "    for i in range(len(lst)):\n",
    "        lst[i][-1]=100 \n",
    "        \n",
    "    for i in range(len(lst)):\n",
    "        lst[i]=tuple(lst[i])\n",
    "        \n",
    "    return lst\n",
    "print(lsttuple([(10, 20, 40), (40, 50, 60), (70, 80, 90)]))\n",
    "print(lsttuple([(20, 20), (400, 150), (70, 80), (2, 3)]))\n",
    "print(lsttuple([(100, 20), (140, 350, 60)]))\n",
    "print(lsttuple([(210, 220, 33, 333), (400, 150, 77), (1170, 180)]))\n",
    "print(lsttuple([(200,), (400, 150, 77, 1170, 180)]))\n"
   ]
  },
  {
   "cell_type": "code",
   "execution_count": 10,
   "metadata": {},
   "outputs": [
    {
     "name": "stdout",
     "output_type": "stream",
     "text": [
      "60\n"
     ]
    }
   ],
   "source": [
    "\n",
    "lsttuple=[(10, 20, 40), (40, 50, 60), (70, 80, 90)]\n",
    "print(lsttuple[1][-1])"
   ]
  }
 ],
 "metadata": {
  "kernelspec": {
   "display_name": "Python 3",
   "language": "python",
   "name": "python3"
  },
  "language_info": {
   "codemirror_mode": {
    "name": "ipython",
    "version": 3
   },
   "file_extension": ".py",
   "mimetype": "text/x-python",
   "name": "python",
   "nbconvert_exporter": "python",
   "pygments_lexer": "ipython3",
   "version": "3.7.1"
  }
 },
 "nbformat": 4,
 "nbformat_minor": 2
}
