{
 "cells": [
  {
   "cell_type": "code",
   "execution_count": 1,
   "metadata": {},
   "outputs": [
    {
     "name": "stdout",
     "output_type": "stream",
     "text": [
      "[(), (), ('',), ('a', 'b'), ('a', 'b', 'c'), ('d',)]\n",
      "[(20, 20), (), (), (2, 3)]\n",
      "[(100, 20), (), (140, 350, 60)]\n",
      "[(210, 220, 33, 333), (), (1170, 180)]\n",
      "[(200,), ('',)]\n"
     ]
    }
   ],
   "source": [
    "def lsttupleL(lst):\n",
    "    for i in range(len(lst)):\n",
    "        lst[i]=list(lst[i])\n",
    "        \n",
    "    for i in range(len(lst)):\n",
    "        if lst[i]==None:\n",
    "            lst.pop(i)\n",
    "        \n",
    "    for i in range(len(lst)):\n",
    "        lst[i]=tuple(lst[i])\n",
    "        \n",
    "    return lst\n",
    "print(lsttupleL([(), (), ('',), ('a', 'b'), ('a', 'b', 'c'), ('d')])) # ('',) is a tuple\n",
    "print(lsttupleL([(20, 20), (), (), (2, 3)]))\n",
    "print(lsttupleL([(100, 20), (''), (140, 350, 60)]))  # ('') not a tuple, it's a string\n",
    "print(lsttupleL([(210, 220, 33, 333), (), (1170, 180)]))\n",
    "print(lsttupleL([(200,), ('',)]))\n"
   ]
  }
 ],
 "metadata": {
  "kernelspec": {
   "display_name": "Python 3",
   "language": "python",
   "name": "python3"
  },
  "language_info": {
   "codemirror_mode": {
    "name": "ipython",
    "version": 3
   },
   "file_extension": ".py",
   "mimetype": "text/x-python",
   "name": "python",
   "nbconvert_exporter": "python",
   "pygments_lexer": "ipython3",
   "version": "3.7.1"
  }
 },
 "nbformat": 4,
 "nbformat_minor": 2
}
