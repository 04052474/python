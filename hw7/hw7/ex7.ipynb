{
 "cells": [
  {
   "cell_type": "code",
   "execution_count": 6,
   "metadata": {},
   "outputs": [
    {
     "name": "stdout",
     "output_type": "stream",
     "text": [
      "[2, 1, 2, 2, 2]\n",
      "[1, 3, 3, 2, 2, 1, 1, 3]\n",
      "[3, 2, 2, 2, 2, 3, 3, 2, 1, 1, 1, 2]\n",
      "[1, 1, 1, 1, 2, 1, 1, 2, 1, 1]\n",
      "[1, 2, 1, 1, 2, 1, 1, 1, 1, 1]\n"
     ]
    }
   ],
   "source": [
    "def tuplexcount(tuplex):\n",
    "    want=[]\n",
    "    for x in tuplex:\n",
    "        want.append(tuplex.count(x))\n",
    "    return want\n",
    "\n",
    "print(tuplexcount((\"E\", \"m\", \"b\", \"b\", \"E\")))\n",
    "print(tuplexcount((\"1\", \"3\", \"3\", \"4\", \"4\", \"6\", \"7\", \"3\")))\n",
    "print(tuplexcount((7, 5, 4, 4, 2, 7, 7, 2, \"y\", \"4\", \"3\", 5)))\n",
    "print(tuplexcount((\"P\", \"y\", \"t\", \"h\", \"o\", \"n\", \"w\", \"o\", \"r\", \"k\")))\n",
    "print(tuplexcount((\"m\", \"a\", \"t\", \"l\", \"a\", \"b\", \"d\", \"i\", \"y\", \"s\")))\n"
   ]
  }
 ],
 "metadata": {
  "kernelspec": {
   "display_name": "Python 3",
   "language": "python",
   "name": "python3"
  },
  "language_info": {
   "codemirror_mode": {
    "name": "ipython",
    "version": 3
   },
   "file_extension": ".py",
   "mimetype": "text/x-python",
   "name": "python",
   "nbconvert_exporter": "python",
   "pygments_lexer": "ipython3",
   "version": "3.7.1"
  }
 },
 "nbformat": 4,
 "nbformat_minor": 2
}
