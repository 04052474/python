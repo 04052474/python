{
 "cells": [
  {
   "cell_type": "code",
   "execution_count": 18,
   "metadata": {},
   "outputs": [
    {
     "name": "stdout",
     "output_type": "stream",
     "text": [
      "[[3, 6, 9, 0], [5, 8, 11, 0], [7, 7, 7, 0]]\n"
     ]
    }
   ],
   "source": [
    "A = [ [1, 2, 3, 0], [4, 5, 6, 0], [7, 8, 9, 0] ]\n",
    "B = [ [2, 4, 6, 0], [1, 3, 5, 0], [0, -1, -2, 0] ]\n",
    "C=A\n",
    "for x in range(3):\n",
    "    for y in range(4):\n",
    "        C[x][y]=A[x][y]+B[x][y]\n",
    "print(C)\n"
   ]
  }
 ],
 "metadata": {
  "kernelspec": {
   "display_name": "Python 3",
   "language": "python",
   "name": "python3"
  },
  "language_info": {
   "codemirror_mode": {
    "name": "ipython",
    "version": 3
   },
   "file_extension": ".py",
   "mimetype": "text/x-python",
   "name": "python",
   "nbconvert_exporter": "python",
   "pygments_lexer": "ipython3",
   "version": "3.7.1"
  }
 },
 "nbformat": 4,
 "nbformat_minor": 2
}
