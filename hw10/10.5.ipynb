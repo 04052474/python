{
 "cells": [
  {
   "cell_type": "code",
   "execution_count": 8,
   "metadata": {},
   "outputs": [
    {
     "name": "stdout",
     "output_type": "stream",
     "text": [
      "jlwang@mail.mcu.edu.tw\n",
      "sychiang@mail.mcu.edu.tw\n",
      "dshung@mail.mcu.edu.tw\n",
      "dllee@mail.mcu.edu.tw\n",
      "cwtsai@mail.mcu.edu.tw\n",
      "chingyi@mail.mcu.edu.tw\n",
      "deer@mail.mcu.edu.tw\n",
      " cwchangg@mail.mcu.edu.tw\n",
      "sclai@mail.mcu.edu.tw\n",
      "cykaoo@mail.mcu.edu.tw\n",
      "jbchen@mail.mcu.edu.tw\n",
      "clchou@mail.mcu.edu.tw\n",
      "wckuo@mail.mcu.edu.tw\n",
      "htchen@mail.mcu.edu.tw\n",
      "cm@mail.sju.edu.tw\n",
      "grace_peng@mail.mcu.edu.tw\n",
      "sammi1126s@gmail.com\n",
      "fcaibi@gmail.com\n",
      "amgwang@gmail.com\n",
      "ariel@mail.mcu.edu.tw\n",
      "peiying@mail.mcu.edu.tw\n",
      "yaudong@mail.mcu.edu.tw\n"
     ]
    }
   ],
   "source": [
    "from bs4 import BeautifulSoup\n",
    "import requests\n",
    "import re \n",
    "url = 'http://www.ite.mcu.edu.tw/?page_id=76'\n",
    "html = requests.get(url)\n",
    "html.encoding=\"utf-8\"\n",
    "\n",
    "sp=BeautifulSoup(html.text,\"html.parser\")\n",
    "links=sp.find_all('a',string=re.compile('[a-zA-Z0-9_.+-]+@[a-zA-Z0-9-]+\\.[a-zA-Z0-9-.]+')) # 讀取 <a>\n",
    "for link in links:\n",
    "    print(link.string)"
   ]
  }
 ],
 "metadata": {
  "kernelspec": {
   "display_name": "Python 3",
   "language": "python",
   "name": "python3"
  },
  "language_info": {
   "codemirror_mode": {
    "name": "ipython",
    "version": 3
   },
   "file_extension": ".py",
   "mimetype": "text/x-python",
   "name": "python",
   "nbconvert_exporter": "python",
   "pygments_lexer": "ipython3",
   "version": "3.7.1"
  }
 },
 "nbformat": 4,
 "nbformat_minor": 2
}
