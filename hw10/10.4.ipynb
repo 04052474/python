{
 "cells": [
  {
   "cell_type": "code",
   "execution_count": 6,
   "metadata": {},
   "outputs": [
    {
     "name": "stdout",
     "output_type": "stream",
     "text": [
      "mailto:jlwang@mail.mcu.edu.tw\n",
      "mailto:sychiang@mail.mcu.edu.tw\n",
      "mailto:dshung@mail.mcu.edu.tw\n",
      "mailto:dllee@mail.mcu.edu.tw\n",
      "mailto:cwtsai@mail.mcu.edu.tw\n",
      "mailto:chingyi@mail.mcu.edu.tw\n",
      "mailto:deer@mail.mcu.edu.tw\n",
      "mailto:cwchangg@mail.mcu.edu.tw\n",
      "mailto:sclai@mail.mcu.edu.tw\n",
      "mailto:cykaoo@mail.mcu.edu.tw\n",
      "mailto:jbchen@mail.mcu.edu.tw\n",
      "mailto:clchou@mail.mcu.edu.tw\n",
      "mailto:wckuo@mail.mcu.edu.tw\n",
      "mailto:htchen@mail.mcu.edu.tw\n",
      "cm@mail.sju.edu.tw\n",
      "mailto:grace_peng@mail.mcu.edu.tw\n",
      "sammi1126s@gmail.com\n",
      "mailto:fcaibi@gmail.com\n",
      "amgwang@gmail.com\n",
      "mailto:ariel@mail.mcu.edu.tw\n",
      "mailto:peiying@mail.mcu.edu.tw\n",
      "mailto:yaudong@mail.mcu.edu.tw\n"
     ]
    }
   ],
   "source": [
    "from bs4 import BeautifulSoup\n",
    "import requests\n",
    "import re \n",
    "url = 'http://www.ite.mcu.edu.tw/?page_id=76'\n",
    "html = requests.get(url)\n",
    "html.encoding=\"utf-8\"\n",
    "\n",
    "sp=BeautifulSoup(html.text,\"html.parser\")\n",
    "links=sp.find_all('a',string=re.compile('[a-zA-Z0-9_.+-]+@[a-zA-Z0-9-]+\\.[a-zA-Z0-9-.]+')) # 讀取 <a>\n",
    "for link in links:\n",
    "    print(link.get(\"href\"))"
   ]
  }
 ],
 "metadata": {
  "kernelspec": {
   "display_name": "Python 3",
   "language": "python",
   "name": "python3"
  },
  "language_info": {
   "codemirror_mode": {
    "name": "ipython",
    "version": 3
   },
   "file_extension": ".py",
   "mimetype": "text/x-python",
   "name": "python",
   "nbconvert_exporter": "python",
   "pygments_lexer": "ipython3",
   "version": "3.7.1"
  }
 },
 "nbformat": 4,
 "nbformat_minor": 2
}
