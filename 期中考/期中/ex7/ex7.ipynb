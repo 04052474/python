{
 "cells": [
  {
   "cell_type": "code",
   "execution_count": 2,
   "metadata": {},
   "outputs": [
    {
     "name": "stdout",
     "output_type": "stream",
     "text": [
      "['Even', 'Even', 'Even', 'Even']\n",
      "['Even', 'Odd', 'Odd', 'Even']\n",
      "['Even', 'Odd', 'Odd', 'Even']\n",
      "['Even', 'Odd', 'Even', 'Odd']\n"
     ]
    }
   ],
   "source": [
    "def make_ends(nums):\n",
    "    lst_num=[]\n",
    "    ls=[]\n",
    "    lst_num.append(nums[0])\n",
    "    lst_num.append(nums[1])\n",
    "    lst_num.append(nums[-2])\n",
    "    lst_num.append(nums[-1])\n",
    "    for i in lst_num:\n",
    "        if i%2==0:\n",
    "            ls.append(\"Even\")\n",
    "        else:\n",
    "            ls.append(\"Odd\")\n",
    "    return ls\n",
    "print(make_ends([312, 16, 254, 6]))\n",
    "print(make_ends([12, 3, 28, 13, 4]))\n",
    "print(make_ends([26, 631, 98, 91, 132]))\n",
    "print(make_ends([24, 163, 17, 56, 123]))\n"
   ]
  }
 ],
 "metadata": {
  "kernelspec": {
   "display_name": "Python 3",
   "language": "python",
   "name": "python3"
  },
  "language_info": {
   "codemirror_mode": {
    "name": "ipython",
    "version": 3
   },
   "file_extension": ".py",
   "mimetype": "text/x-python",
   "name": "python",
   "nbconvert_exporter": "python",
   "pygments_lexer": "ipython3",
   "version": "3.7.1"
  }
 },
 "nbformat": 4,
 "nbformat_minor": 2
}
