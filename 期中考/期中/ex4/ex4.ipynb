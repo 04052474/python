{
 "cells": [
  {
   "cell_type": "code",
   "execution_count": 8,
   "metadata": {},
   "outputs": [
    {
     "name": "stdout",
     "output_type": "stream",
     "text": [
      "The closest feature vector is : [4.9 3.1 1.5 0.2]\n",
      "The class of the closest feature vector is: 0\n",
      "The closest feature vector is : [5.9 3.2 4.8 1.8]\n",
      "The class of the closest feature vector is: 1\n",
      "The closest feature vector is : [7.7 2.6 6.9 2.3]\n",
      "The class of the closest feature vector is: 2\n"
     ]
    }
   ],
   "source": [
    "from sklearn import datasets\n",
    "iris = datasets.load_iris()\n",
    "X = iris.data[:, :4]\n",
    "Y = iris.target\n",
    "def ClosestDist(lst):\n",
    "    \n",
    "    ans=[]\n",
    "    com=lst\n",
    "    for i in X:\n",
    "        a=(com[0]-i[0])**2\n",
    "        b=(com[1]-i[1])**2\n",
    "        c=(com[2]-i[2])**2\n",
    "        d=(com[3]-i[3])**2\n",
    "        ans.append((a+b+c+d)**0.5)\n",
    "    small=ans[0]\n",
    "    index=0\n",
    "    for i in range(0,len(ans)):\n",
    "        if small>ans[i]:\n",
    "            small=ans[i]\n",
    "            index=i\n",
    "    return iris.data[index, :4],iris.target[index]\n",
    "print('The closest feature vector is :',ClosestDist([4.91, 3.2, 1.58, 0.19])[0])\n",
    "print('The class of the closest feature vector is:',ClosestDist([4.91, 3.2, 1.58, 0.19])[1])\n",
    "print('The closest feature vector is :',ClosestDist([5.85, 3.12, 4.78, 1.6])[0])\n",
    "print('The class of the closest feature vector is:',ClosestDist([5.85, 3.12, 4.78, 1.6])[1])\n",
    "print('The closest feature vector is :',ClosestDist([7.6, 2.56, 6.89, 2.2 ])[0])\n",
    "print('The class of the closest feature vector is:',ClosestDist([7.6, 2.56, 6.89, 2.2 ])[1])\n"
   ]
  }
 ],
 "metadata": {
  "kernelspec": {
   "display_name": "Python 3",
   "language": "python",
   "name": "python3"
  },
  "language_info": {
   "codemirror_mode": {
    "name": "ipython",
    "version": 3
   },
   "file_extension": ".py",
   "mimetype": "text/x-python",
   "name": "python",
   "nbconvert_exporter": "python",
   "pygments_lexer": "ipython3",
   "version": "3.7.1"
  }
 },
 "nbformat": 4,
 "nbformat_minor": 2
}
