{
 "cells": [
  {
   "cell_type": "code",
   "execution_count": 7,
   "metadata": {},
   "outputs": [
    {
     "name": "stdout",
     "output_type": "stream",
     "text": [
      "457.6\n",
      "96.4\n"
     ]
    }
   ],
   "source": [
    "class kinematic:\n",
    "    def __init__(self,v,t):\n",
    "        self.v=v\n",
    "        self.t=t\n",
    "    def distance(self):\n",
    "        S=self.v*self.t+9.8*self.t*self.t*0.5\n",
    "        return S\n",
    "    def finalVelocity(self):\n",
    "        v=self.v+9.8*self.t\n",
    "        return v\n",
    "a = kinematic(18,8)\n",
    "print(a.distance())\n",
    "print(a.finalVelocity())\n"
   ]
  }
 ],
 "metadata": {
  "kernelspec": {
   "display_name": "Python 3",
   "language": "python",
   "name": "python3"
  },
  "language_info": {
   "codemirror_mode": {
    "name": "ipython",
    "version": 3
   },
   "file_extension": ".py",
   "mimetype": "text/x-python",
   "name": "python",
   "nbconvert_exporter": "python",
   "pygments_lexer": "ipython3",
   "version": "3.7.1"
  }
 },
 "nbformat": 4,
 "nbformat_minor": 2
}
