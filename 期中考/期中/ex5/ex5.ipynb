{
 "cells": [
  {
   "cell_type": "code",
   "execution_count": 5,
   "metadata": {},
   "outputs": [
    {
     "name": "stdout",
     "output_type": "stream",
     "text": [
      "['What', 'a', 'beautiful', 'day!']\n",
      "['He', 'is', 'also', 'a', 'excellent', 'man', 'in', 'a', 'tough', 'business.']\n",
      "['President', 'Donald', 'Trump', 'said', 'he', 'will', 'not', 'accept', 'a', 'deal.']\n"
     ]
    }
   ],
   "source": [
    "def changeWord(str):\n",
    "    lst=[]\n",
    "    str2=str.split(' ')\n",
    "    for i in str2:\n",
    "        if i==\"good\":\n",
    "            i=\"excellent\"\n",
    "        if i==\"bad\":\n",
    "            continue\n",
    "        lst.append(i)\n",
    "    return lst\n",
    "print(changeWord('What a beautiful day!'))\n",
    "print(changeWord('He is also a good man in a tough business.'))\n",
    "print(changeWord('President Donald Trump said he will not accept a bad deal.'))\n",
    "\n"
   ]
  }
 ],
 "metadata": {
  "kernelspec": {
   "display_name": "Python 3",
   "language": "python",
   "name": "python3"
  },
  "language_info": {
   "codemirror_mode": {
    "name": "ipython",
    "version": 3
   },
   "file_extension": ".py",
   "mimetype": "text/x-python",
   "name": "python",
   "nbconvert_exporter": "python",
   "pygments_lexer": "ipython3",
   "version": "3.7.1"
  }
 },
 "nbformat": 4,
 "nbformat_minor": 2
}
