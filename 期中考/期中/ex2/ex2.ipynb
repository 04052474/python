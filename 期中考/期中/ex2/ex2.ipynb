{
 "cells": [
  {
   "cell_type": "code",
   "execution_count": 21,
   "metadata": {},
   "outputs": [
    {
     "name": "stdout",
     "output_type": "stream",
     "text": [
      "(9227, 5233)\n",
      "(129, 97)\n",
      "(1022, 1019)\n",
      "(99, 98)\n",
      "(422, 271)\n"
     ]
    }
   ],
   "source": [
    "def max2(x):\n",
    "    x=list(x)\n",
    "    x.sort()\n",
    "    m1=x[-1]\n",
    "    m2=x[-2]\n",
    "    return m1,m2\n",
    "print(max2([5233, 2162, 125, 9227, 42, 129]))\n",
    "print(max2([23, 21, 65, 97, 42, 129, -2]))\n",
    "print(max2(range(2, 1024, 3)))\n",
    "print(max2(range(1, 100)))\n",
    "print(max2([223, 271, 62, 95, 422, 229, -26]))\n"
   ]
  }
 ],
 "metadata": {
  "kernelspec": {
   "display_name": "Python 3",
   "language": "python",
   "name": "python3"
  },
  "language_info": {
   "codemirror_mode": {
    "name": "ipython",
    "version": 3
   },
   "file_extension": ".py",
   "mimetype": "text/x-python",
   "name": "python",
   "nbconvert_exporter": "python",
   "pygments_lexer": "ipython3",
   "version": "3.7.1"
  }
 },
 "nbformat": 4,
 "nbformat_minor": 2
}
