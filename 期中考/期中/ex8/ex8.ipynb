{
 "cells": [
  {
   "cell_type": "code",
   "execution_count": 2,
   "metadata": {},
   "outputs": [
    {
     "name": "stdout",
     "output_type": "stream",
     "text": [
      "[12, 16, 2]\n",
      "[13, 4, 23]\n",
      "[12, 3, 24]\n",
      "[26, 31, 132]\n"
     ]
    }
   ],
   "source": [
    "def uniq_items(lst):\n",
    "    uniqItems=[]\n",
    "    for i in lst:\n",
    "        if i not in uniqItems:\n",
    "            uniqItems.append(i)\n",
    "    return uniqItems\n",
    "print(uniq_items([12, 16, 2, 16]))\n",
    "print(uniq_items([13, 13, 4, 23]))\n",
    "print(uniq_items([12, 3, 12, 3, 24]))\n",
    "print(uniq_items([26, 31, 132]))\n",
    "\n"
   ]
  }
 ],
 "metadata": {
  "kernelspec": {
   "display_name": "Python 3",
   "language": "python",
   "name": "python3"
  },
  "language_info": {
   "codemirror_mode": {
    "name": "ipython",
    "version": 3
   },
   "file_extension": ".py",
   "mimetype": "text/x-python",
   "name": "python",
   "nbconvert_exporter": "python",
   "pygments_lexer": "ipython3",
   "version": "3.7.1"
  }
 },
 "nbformat": 4,
 "nbformat_minor": 2
}
