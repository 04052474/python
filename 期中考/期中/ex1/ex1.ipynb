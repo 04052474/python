{
 "cells": [
  {
   "cell_type": "code",
   "execution_count": 4,
   "metadata": {},
   "outputs": [
    {
     "name": "stdout",
     "output_type": "stream",
     "text": [
      "7\n",
      "-240\n",
      "26\n",
      "24\n",
      "21\n"
     ]
    }
   ],
   "source": [
    "def MaxProdNum(list):\n",
    "    first=list[0]*list[1]\n",
    "    for i in range(0,len(list)):\n",
    "        if i+1<len(list):\n",
    "            nextone=list[i]*list[i+1]\n",
    "            if first>nextone:\n",
    "                first=nextone\n",
    "    return first\n",
    "print(MaxProdNum([27, 3, 4, 5, 7, 1]))\n",
    "print(MaxProdNum([-20, -10, -40, 6, 27, 17]))\n",
    "print(MaxProdNum([2, 13, 14, 55, 7, 41]))\n",
    "print(MaxProdNum([60, 2, 400, 3, 8, 12]))\n",
    "print(MaxProdNum([21, 1, 44, 55, 17, 280]))\n"
   ]
  },
  {
   "cell_type": "code",
   "execution_count": null,
   "metadata": {},
   "outputs": [],
   "source": []
  }
 ],
 "metadata": {
  "kernelspec": {
   "display_name": "Python 3",
   "language": "python",
   "name": "python3"
  },
  "language_info": {
   "codemirror_mode": {
    "name": "ipython",
    "version": 3
   },
   "file_extension": ".py",
   "mimetype": "text/x-python",
   "name": "python",
   "nbconvert_exporter": "python",
   "pygments_lexer": "ipython3",
   "version": "3.7.1"
  }
 },
 "nbformat": 4,
 "nbformat_minor": 2
}
