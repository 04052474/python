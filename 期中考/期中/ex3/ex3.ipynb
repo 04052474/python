{
 "cells": [
  {
   "cell_type": "code",
   "execution_count": 6,
   "metadata": {},
   "outputs": [
    {
     "name": "stdout",
     "output_type": "stream",
     "text": [
      "* * * * * \n",
      "*       * \n",
      "*       * \n",
      "*       * \n",
      "* * * * * \n",
      "* * * * * * * * * * * \n",
      "*                   * \n",
      "*                   * \n",
      "*                   * \n",
      "*                   * \n",
      "*                   * \n",
      "*                   * \n",
      "*                   * \n",
      "*                   * \n",
      "*                   * \n",
      "* * * * * * * * * * * \n"
     ]
    }
   ],
   "source": [
    "def drawsquare(rows):\n",
    "    for row in range(0,rows):\n",
    "        for col in range(0,rows):\n",
    "            if (row==0 or row==rows-1) and col!=0 and col!=rows-1:\n",
    "                print('* ',end='')\n",
    "            elif col==0 or col==rows-1:\n",
    "                print('* ',end='')\n",
    "                if col==rows-1:\n",
    "                    print(end='\\n')\n",
    "            else:\n",
    "                print('  ',end='')\n",
    "\n",
    "drawsquare(5)\n",
    "drawsquare(11)\n",
    "\n"
   ]
  }
 ],
 "metadata": {
  "kernelspec": {
   "display_name": "Python 3",
   "language": "python",
   "name": "python3"
  },
  "language_info": {
   "codemirror_mode": {
    "name": "ipython",
    "version": 3
   },
   "file_extension": ".py",
   "mimetype": "text/x-python",
   "name": "python",
   "nbconvert_exporter": "python",
   "pygments_lexer": "ipython3",
   "version": "3.7.1"
  }
 },
 "nbformat": 4,
 "nbformat_minor": 2
}
