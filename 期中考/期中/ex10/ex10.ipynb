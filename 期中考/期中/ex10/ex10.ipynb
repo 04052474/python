{
 "cells": [
  {
   "cell_type": "code",
   "execution_count": 3,
   "metadata": {},
   "outputs": [
    {
     "name": "stdout",
     "output_type": "stream",
     "text": [
      "['BE', 'a', 'good', 'student', 'and', 'BE', 'a', 'good', 'boy']\n",
      "['THE', 'gift', 'is', 'for', 'THE', 'boy', 'and', 'for', 'THE', 'girl']\n",
      "['PETER', 'Lee', 'and', 'Jane', 'Chen', 'and', 'PETER', 'Liu']\n"
     ]
    }
   ],
   "source": [
    "def UpperEqualWord(str):\n",
    "    lst=[]\n",
    "    str2=str.split(' ')\n",
    "    first=str2[0]\n",
    "    for i in str2:\n",
    "        if i==first:\n",
    "            i=i.upper()\n",
    "        lst.append(i)\n",
    "    return lst\n",
    "print(UpperEqualWord('be a good student and be a good boy'))\n",
    "print(UpperEqualWord('the gift is for the boy and for the girl'))\n",
    "print(UpperEqualWord('Peter Lee and Jane Chen and Peter Liu'))\n"
   ]
  }
 ],
 "metadata": {
  "kernelspec": {
   "display_name": "Python 3",
   "language": "python",
   "name": "python3"
  },
  "language_info": {
   "codemirror_mode": {
    "name": "ipython",
    "version": 3
   },
   "file_extension": ".py",
   "mimetype": "text/x-python",
   "name": "python",
   "nbconvert_exporter": "python",
   "pygments_lexer": "ipython3",
   "version": "3.7.1"
  }
 },
 "nbformat": 4,
 "nbformat_minor": 2
}
