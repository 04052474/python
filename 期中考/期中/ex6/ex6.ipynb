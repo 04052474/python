{
 "cells": [
  {
   "cell_type": "code",
   "execution_count": 2,
   "metadata": {},
   "outputs": [
    {
     "name": "stdout",
     "output_type": "stream",
     "text": [
      "borning\n",
      "training\n",
      "runningly\n",
      "starting\n"
     ]
    }
   ],
   "source": [
    "def add_string(str1):\n",
    "    if str1[-3:]=='ing':\n",
    "        str1=str1+'ly'\n",
    "    else:\n",
    "         str1=str1+'ing'\n",
    "    return str1\n",
    "print(add_string('born'))\n",
    "print(add_string('train'))\n",
    "print(add_string('running'))\n",
    "print(add_string('start'))\n",
    "\n"
   ]
  }
 ],
 "metadata": {
  "kernelspec": {
   "display_name": "Python 3",
   "language": "python",
   "name": "python3"
  },
  "language_info": {
   "codemirror_mode": {
    "name": "ipython",
    "version": 3
   },
   "file_extension": ".py",
   "mimetype": "text/x-python",
   "name": "python",
   "nbconvert_exporter": "python",
   "pygments_lexer": "ipython3",
   "version": "3.7.1"
  }
 },
 "nbformat": 4,
 "nbformat_minor": 2
}
