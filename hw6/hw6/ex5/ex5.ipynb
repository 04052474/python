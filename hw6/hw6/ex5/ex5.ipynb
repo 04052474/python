{
 "cells": [
  {
   "cell_type": "code",
   "execution_count": 4,
   "metadata": {},
   "outputs": [
    {
     "name": "stdout",
     "output_type": "stream",
     "text": [
      "block\n",
      "BLOCK\n"
     ]
    }
   ],
   "source": [
    "class IOString:\n",
    "    def __init__(self):\n",
    "        self.string=\"\"\n",
    "    def getString(self):\n",
    "        self.string=input()\n",
    "    def printString(self):\n",
    "        self.string=self.string.upper()\n",
    "        print(self.string)\n",
    "str1=IOString()\n",
    "str1.getString()\n",
    "str1.printString()"
   ]
  }
 ],
 "metadata": {
  "kernelspec": {
   "display_name": "Python 3",
   "language": "python",
   "name": "python3"
  },
  "language_info": {
   "codemirror_mode": {
    "name": "ipython",
    "version": 3
   },
   "file_extension": ".py",
   "mimetype": "text/x-python",
   "name": "python",
   "nbconvert_exporter": "python",
   "pygments_lexer": "ipython3",
   "version": "3.7.1"
  }
 },
 "nbformat": 4,
 "nbformat_minor": 2
}
