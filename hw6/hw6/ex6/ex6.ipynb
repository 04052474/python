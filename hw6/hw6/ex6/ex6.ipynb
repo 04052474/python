{
 "cells": [
  {
   "cell_type": "code",
   "execution_count": 21,
   "metadata": {},
   "outputs": [
    {
     "name": "stdout",
     "output_type": "stream",
     "text": [
      "Name :  Zera , Salary :  2000\n",
      "Name :  Manni , Salary :  5000\n",
      "Name :  Amy , Salary :  5000\n",
      "Total Employee 3\n"
     ]
    }
   ],
   "source": [
    "class Employee:\n",
    "    empCount=0\n",
    "    def __init__(self,Name,Salary):\n",
    "        self.Name=Name\n",
    "        self.Salary=Salary\n",
    "        Employee.empCount=Employee.empCount+1\n",
    "    def displayEmployee(self):\n",
    "        print(\"Name : \",self.Name,\",\",\"Salary : \",self.Salary)\n",
    "    def displayCount(self):\n",
    "        print(\"Total Employee %d\" % Employee.empCount)\n",
    "emp1=Employee(\"Zera\",2000)\n",
    "emp2=Employee(\"Manni\",5000)\n",
    "emp3=Employee(\"Amy\",5000)\n",
    "emp1.displayEmployee()\n",
    "emp2.displayEmployee()\n",
    "emp3.displayEmployee()\n",
    "emp3.displayCount()"
   ]
  }
 ],
 "metadata": {
  "kernelspec": {
   "display_name": "Python 3",
   "language": "python",
   "name": "python3"
  },
  "language_info": {
   "codemirror_mode": {
    "name": "ipython",
    "version": 3
   },
   "file_extension": ".py",
   "mimetype": "text/x-python",
   "name": "python",
   "nbconvert_exporter": "python",
   "pygments_lexer": "ipython3",
   "version": "3.7.1"
  }
 },
 "nbformat": 4,
 "nbformat_minor": 2
}
