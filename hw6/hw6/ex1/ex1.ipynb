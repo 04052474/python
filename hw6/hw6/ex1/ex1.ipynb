{
 "cells": [
  {
   "cell_type": "code",
   "execution_count": 8,
   "metadata": {},
   "outputs": [
    {
     "name": "stdout",
     "output_type": "stream",
     "text": [
      "\n",
      "machine learning .ipynb\n",
      "['machine', 'learning', '.ipynb']\n"
     ]
    }
   ],
   "source": [
    "class strSplitClass:\n",
    "    def __init__(self):\n",
    "        self.str = \"\"\n",
    "        print(self.str)\n",
    "    def strSplit(self):\n",
    "        self.str=input()\n",
    "        self.str=self.str.split(\" \")\n",
    "        print(self.str)\n",
    "str1=strSplitClass()\n",
    "str1.strSplit()\n"
   ]
  }
 ],
 "metadata": {
  "kernelspec": {
   "display_name": "Python 3",
   "language": "python",
   "name": "python3"
  },
  "language_info": {
   "codemirror_mode": {
    "name": "ipython",
    "version": 3
   },
   "file_extension": ".py",
   "mimetype": "text/x-python",
   "name": "python",
   "nbconvert_exporter": "python",
   "pygments_lexer": "ipython3",
   "version": "3.7.1"
  }
 },
 "nbformat": 4,
 "nbformat_minor": 2
}
