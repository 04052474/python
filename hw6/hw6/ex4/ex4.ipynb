{
 "cells": [
  {
   "cell_type": "code",
   "execution_count": 6,
   "metadata": {},
   "outputs": [
    {
     "name": "stdout",
     "output_type": "stream",
     "text": [
      "32\n",
      "24\n",
      "8.0\n",
      "12.0\n"
     ]
    }
   ],
   "source": [
    "class Shape:\n",
    "    def __init__(self,width,height):\n",
    "        self.width=width\n",
    "        self.height=height\n",
    "    def area(self):\n",
    "        return self.width*self.height\n",
    "    def perimeter(self):\n",
    "        return self.width*2+self.height*2\n",
    "    def scalesize(self,size):\n",
    "        self.width=self.width*size\n",
    "        self.height=self.height*size\n",
    "rectangle=Shape(4,8)\n",
    "\n",
    "print(rectangle.area())\n",
    "print(rectangle.perimeter())\n",
    "\n",
    "rectangle.scalesize(0.5)\n",
    "print(rectangle.area())\n",
    "print(rectangle.perimeter())\n"
   ]
  }
 ],
 "metadata": {
  "kernelspec": {
   "display_name": "Python 3",
   "language": "python",
   "name": "python3"
  },
  "language_info": {
   "codemirror_mode": {
    "name": "ipython",
    "version": 3
   },
   "file_extension": ".py",
   "mimetype": "text/x-python",
   "name": "python",
   "nbconvert_exporter": "python",
   "pygments_lexer": "ipython3",
   "version": "3.7.1"
  }
 },
 "nbformat": 4,
 "nbformat_minor": 2
}
