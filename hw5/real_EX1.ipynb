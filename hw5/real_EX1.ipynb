{
 "cells": [
  {
   "cell_type": "code",
   "execution_count": 9,
   "metadata": {},
   "outputs": [
    {
     "name": "stdout",
     "output_type": "stream",
     "text": [
      "max_mul([2, -1, 7, 9, 23, 2])\n",
      "輸出: 207\n",
      "max_mul([2, -1, 7, 9, 23, 25])\n",
      "輸出: 575\n",
      "max_mul([-22, -18, 7, 9, 23, 2])\n",
      "輸出: 396\n"
     ]
    }
   ],
   "source": [
    "def max_mul(l):\n",
    "    first=l[0]*l[1]\n",
    "    for i in range(0,len(l)):\n",
    "        if i+1<len(l):\n",
    "            nextone=l[i]*l[i+1]\n",
    "        if first<nextone:\n",
    "            first=nextone\n",
    "    return first\n",
    "print(\"max_mul([2, -1, 7, 9, 23, 2])\")\n",
    "print(\"輸出:\",max_mul([2, -1, 7, 9, 23, 2]))\n",
    "print(\"max_mul([2, -1, 7, 9, 23, 25])\")\n",
    "print(\"輸出:\",max_mul([2, -1, 7, 9, 23, 25]))\n",
    "print(\"max_mul([-22, -18, 7, 9, 23, 2])\")\n",
    "print(\"輸出:\",max_mul([-22, -18, 7, 9, 23, 2]))"
   ]
  }
 ],
 "metadata": {
  "kernelspec": {
   "display_name": "Python 3",
   "language": "python",
   "name": "python3"
  },
  "language_info": {
   "codemirror_mode": {
    "name": "ipython",
    "version": 3
   },
   "file_extension": ".py",
   "mimetype": "text/x-python",
   "name": "python",
   "nbconvert_exporter": "python",
   "pygments_lexer": "ipython3",
   "version": "3.7.1"
  }
 },
 "nbformat": 4,
 "nbformat_minor": 2
}
