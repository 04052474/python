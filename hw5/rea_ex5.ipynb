{
 "cells": [
  {
   "cell_type": "code",
   "execution_count": 3,
   "metadata": {},
   "outputs": [
    {
     "name": "stdout",
     "output_type": "stream",
     "text": [
      "輸入insert_str('[[]]', 'Python')\n",
      "輸出: [[Python]]\n",
      "\n",
      "輸入insert_str('{{}}', 'C++')\n",
      "輸出: {{C++}}\n",
      "\n",
      "輸入insert_str('<<>>', 'Java')\n",
      "輸出: <<Java>>\n"
     ]
    }
   ],
   "source": [
    "def insert_str(str, word):\n",
    "    return  str[0:2]+word+str[2:]\n",
    "print(\"輸入insert_str('[[]]', 'Python')\")\n",
    "print(\"輸出:\",insert_str('[[]]', 'Python'))\n",
    "print('')\n",
    "print(\"輸入insert_str('{{}}', 'C++')\")\n",
    "print(\"輸出:\",insert_str('{{}}', 'C++'))\n",
    "print('')\n",
    "print(\"輸入insert_str('<<>>', 'Java')\")\n",
    "print(\"輸出:\",insert_str('<<>>', 'Java'))"
   ]
  }
 ],
 "metadata": {
  "kernelspec": {
   "display_name": "Python 3",
   "language": "python",
   "name": "python3"
  },
  "language_info": {
   "codemirror_mode": {
    "name": "ipython",
    "version": 3
   },
   "file_extension": ".py",
   "mimetype": "text/x-python",
   "name": "python",
   "nbconvert_exporter": "python",
   "pygments_lexer": "ipython3",
   "version": "3.7.1"
  }
 },
 "nbformat": 4,
 "nbformat_minor": 2
}
