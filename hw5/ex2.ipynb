{
 "cells": [
  {
   "cell_type": "code",
   "execution_count": 15,
   "metadata": {},
   "outputs": [
    {
     "name": "stdout",
     "output_type": "stream",
     "text": [
      "輸入m:7\n",
      "輸入n:9\n",
      "輸入 multiply( 7 , 9 )\n",
      "63\n"
     ]
    }
   ],
   "source": [
    "def multiply(m,n):\n",
    "    if n==1:\n",
    "        return m\n",
    "    return m+multiply(m,n-1)\n",
    "    \n",
    "m=int(input('輸入m:'))\n",
    "n=int(input('輸入n:'))\n",
    "print(\"輸入 multiply(\",m,\",\",n,\")\")\n",
    "print(multiply(m,n))"
   ]
  }
 ],
 "metadata": {
  "kernelspec": {
   "display_name": "Python 3",
   "language": "python",
   "name": "python3"
  },
  "language_info": {
   "codemirror_mode": {
    "name": "ipython",
    "version": 3
   },
   "file_extension": ".py",
   "mimetype": "text/x-python",
   "name": "python",
   "nbconvert_exporter": "python",
   "pygments_lexer": "ipython3",
   "version": "3.7.1"
  }
 },
 "nbformat": 4,
 "nbformat_minor": 2
}
