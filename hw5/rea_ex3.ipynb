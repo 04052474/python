{
 "cells": [
  {
   "cell_type": "code",
   "execution_count": 3,
   "metadata": {},
   "outputs": [
    {
     "name": "stdout",
     "output_type": "stream",
     "text": [
      "輸入score_threshold([56, 72, 98, 11, 34, 99], 60)\n",
      "輸出: [False, True, True, False, False, True]\n"
     ]
    }
   ],
   "source": [
    "def score_threshold(l, t):\n",
    "    ans=[]\n",
    "    for i in range(0,len(l)):\n",
    "        ans.append(l[i]>t)\n",
    "    return ans\n",
    "print(\"輸入score_threshold([56, 72, 98, 11, 34, 99], 60)\")\n",
    "print(\"輸出:\",score_threshold([56, 72, 98, 11, 34, 99], 60))\n"
   ]
  }
 ],
 "metadata": {
  "kernelspec": {
   "display_name": "Python 3",
   "language": "python",
   "name": "python3"
  },
  "language_info": {
   "codemirror_mode": {
    "name": "ipython",
    "version": 3
   },
   "file_extension": ".py",
   "mimetype": "text/x-python",
   "name": "python",
   "nbconvert_exporter": "python",
   "pygments_lexer": "ipython3",
   "version": "3.7.1"
  }
 },
 "nbformat": 4,
 "nbformat_minor": 2
}
