{
 "cells": [
  {
   "cell_type": "code",
   "execution_count": 16,
   "metadata": {},
   "outputs": [
    {
     "name": "stdout",
     "output_type": "stream",
     "text": [
      "輸入w:\n",
      "輸入h:\n",
      "+-+-+-\n",
      "+-+-+-\n",
      "+-+-+-\n",
      "+-+-+-\n",
      "+-+-+-\n",
      "+-+-+-\n",
      "+-+-+-\n"
     ]
    }
   ],
   "source": [
    "def hyberCub(w='6',h='7'):\n",
    "    w=int(w)\n",
    "    h=int(h)\n",
    "    for x in range(0,h):\n",
    "        for y in range(0,w):\n",
    "            if y%2==0:\n",
    "                print(\"+\",end=\"\")\n",
    "            else:\n",
    "                print(\"-\",end=\"\")\n",
    "        print(\"\")\n",
    "w=input(\"輸入w:\")\n",
    "h=input(\"輸入h:\")\n",
    "if w==\"\" and h==\"\":\n",
    "    hyberCub()\n",
    "else:\n",
    "    hyberCub(w,h)"
   ]
  },
  {
   "cell_type": "code",
   "execution_count": null,
   "metadata": {},
   "outputs": [],
   "source": []
  }
 ],
 "metadata": {
  "kernelspec": {
   "display_name": "Python 3",
   "language": "python",
   "name": "python3"
  },
  "language_info": {
   "codemirror_mode": {
    "name": "ipython",
    "version": 3
   },
   "file_extension": ".py",
   "mimetype": "text/x-python",
   "name": "python",
   "nbconvert_exporter": "python",
   "pygments_lexer": "ipython3",
   "version": "3.7.1"
  }
 },
 "nbformat": 4,
 "nbformat_minor": 2
}
