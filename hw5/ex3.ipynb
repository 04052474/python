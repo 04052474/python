{
 "cells": [
  {
   "cell_type": "code",
   "execution_count": 16,
   "metadata": {},
   "outputs": [
    {
     "name": "stdout",
     "output_type": "stream",
     "text": [
      "輸入x:-4\n",
      "輸入y:3\n",
      "輸入z:-5\n",
      "輸入 forwardCircuit( -4 , 3 , -5 )\n",
      "回傳: 5\n"
     ]
    }
   ],
   "source": [
    "forwardAddGate =lambda x,y:x+y\n",
    "forwardMultGate =lambda q,z:q*z\n",
    "def forwardCircuit(x, y, z):\n",
    "    q=forwardAddGate(x,y)\n",
    "    ans=forwardMultGate(q,z)\n",
    "    return ans\n",
    "x=int(input('輸入x:'))\n",
    "y=int(input('輸入y:'))\n",
    "z=int(input('輸入z:'))\n",
    "print(\"輸入 forwardCircuit(\",x,\",\",y,\",\",z,\")\")\n",
    "print(\"回傳:\",forwardCircuit(x,y,z))"
   ]
  }
 ],
 "metadata": {
  "kernelspec": {
   "display_name": "Python 3",
   "language": "python",
   "name": "python3"
  },
  "language_info": {
   "codemirror_mode": {
    "name": "ipython",
    "version": 3
   },
   "file_extension": ".py",
   "mimetype": "text/x-python",
   "name": "python",
   "nbconvert_exporter": "python",
   "pygments_lexer": "ipython3",
   "version": "3.7.1"
  }
 },
 "nbformat": 4,
 "nbformat_minor": 2
}
