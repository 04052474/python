{
 "cells": [
  {
   "cell_type": "code",
   "execution_count": 1,
   "metadata": {},
   "outputs": [],
   "source": [
    "from tkinter import *\n",
    "def add():                                  # 加法運算\n",
    "    n3.set(n1.get()+n2.get())\n",
    "    ans=n1.get()+n2.get()\n",
    "    ans=str(ans)\n",
    "    label2['text']=\"計算結果為:\"+ans\n",
    "    \n",
    "window = Tk()\n",
    "window.title(\"ex5\")                     # 視窗標題\n",
    "\n",
    "n1 = IntVar()                   \n",
    "n2 = IntVar()\n",
    "n3 = IntVar()\n",
    "\n",
    "e1 = Entry(window,width=8,textvariable=n1)                 # 文字方塊1\n",
    "label = Label(window,width=3,text='+')                           # 加號\n",
    "e2 = Entry(window,width=8,textvariable=n2)                  # 文字方塊2\n",
    "btn = Button(window,width=5,text='=',command=add)   # =按鈕\n",
    "e3 = Entry(window,width=8,textvariable=n3)                  # 儲存結果文字方塊\n",
    "label2 = Label(window,width=15,text='None')  \n",
    "\n",
    "e1.grid(row=0,column=0)                     # 定位文字方塊1\n",
    "label.grid(row=0,column=1)                 # 定位加號\n",
    "e2.grid(row=0,column=2)                     # 定位文字方塊2\n",
    "btn.grid(row=0,column=3)                    # 定位=按鈕\n",
    "e3.grid(row=0,column=4)                     # 定位儲存結果\n",
    "label2.grid(row=1,column=4)\n",
    "\n",
    "window.mainloop()\n",
    "\n"
   ]
  }
 ],
 "metadata": {
  "kernelspec": {
   "display_name": "Python 3",
   "language": "python",
   "name": "python3"
  },
  "language_info": {
   "codemirror_mode": {
    "name": "ipython",
    "version": 3
   },
   "file_extension": ".py",
   "mimetype": "text/x-python",
   "name": "python",
   "nbconvert_exporter": "python",
   "pygments_lexer": "ipython3",
   "version": "3.7.1"
  }
 },
 "nbformat": 4,
 "nbformat_minor": 2
}
