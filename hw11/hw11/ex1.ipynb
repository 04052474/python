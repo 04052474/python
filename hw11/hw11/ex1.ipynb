{
 "cells": [
  {
   "cell_type": "code",
   "execution_count": 22,
   "metadata": {},
   "outputs": [],
   "source": [
    "from tkinter import *\n",
    "def msgShow():\n",
    "    label['text']=\"歡迎來自\"+e1.get()+\"的朋友\"\n",
    "window = Tk()\n",
    "window.title(\"MyWindow\")            # 視窗標題\n",
    "window.geometry(\"300x160\")  \n",
    "\n",
    "label = Label(window,text=\"Hello\") #字型            \n",
    "label.pack()  # 包裝與定位元件\n",
    "e1=Entry(window,width=15)            \n",
    "e1.pack()\n",
    "btn = Button(window,text=\"請輸入你居住的城市\",command=msgShow)\n",
    "btn.pack()\n",
    "\n",
    "window.mainloop()\n"
   ]
  },
  {
   "cell_type": "code",
   "execution_count": null,
   "metadata": {},
   "outputs": [],
   "source": []
  },
  {
   "cell_type": "code",
   "execution_count": null,
   "metadata": {},
   "outputs": [],
   "source": []
  }
 ],
 "metadata": {
  "kernelspec": {
   "display_name": "Python 3",
   "language": "python",
   "name": "python3"
  },
  "language_info": {
   "codemirror_mode": {
    "name": "ipython",
    "version": 3
   },
   "file_extension": ".py",
   "mimetype": "text/x-python",
   "name": "python",
   "nbconvert_exporter": "python",
   "pygments_lexer": "ipython3",
   "version": "3.7.1"
  }
 },
 "nbformat": 4,
 "nbformat_minor": 2
}
