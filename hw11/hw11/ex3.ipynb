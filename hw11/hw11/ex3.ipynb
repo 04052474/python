{
 "cells": [
  {
   "cell_type": "code",
   "execution_count": 3,
   "metadata": {},
   "outputs": [],
   "source": [
    "from tkinter import *\n",
    "def add():                                  # 加法運算\n",
    "    n2.set(n1.get()*9/5+32)\n",
    "window = Tk()\n",
    "window.title(\"ex3\")                     # 視窗標題\n",
    "\n",
    "n1 = IntVar()                   \n",
    "n2 = IntVar()\n",
    "\n",
    "e1 = Entry(window,width=8,textvariable=n1)                 # 文字方塊1\n",
    "label1 = Label(window,width=3,text='°C')                           # 加號\n",
    "e2 = Entry(window,width=8,textvariable=n2)                  # 文字方塊2\n",
    "btn = Button(window,width=5,text='convert',command=add)   # =按鈕\n",
    "label2= Label(window,width=3,text='°F')                   # 儲存結果文字方塊\n",
    "\n",
    "e1.grid(row=0,column=0)                     # 定位文字方塊1\n",
    "label1.grid(row=0,column=1)                 # 定位加號\n",
    "btn.grid(row=0,column=2)   \n",
    "e2.grid(row=0,column=3)\n",
    "label2.grid(row=0,column=4)                        # 定位儲存結果\n",
    "\n",
    "window.mainloop()\n"
   ]
  }
 ],
 "metadata": {
  "kernelspec": {
   "display_name": "Python 3",
   "language": "python",
   "name": "python3"
  },
  "language_info": {
   "codemirror_mode": {
    "name": "ipython",
    "version": 3
   },
   "file_extension": ".py",
   "mimetype": "text/x-python",
   "name": "python",
   "nbconvert_exporter": "python",
   "pygments_lexer": "ipython3",
   "version": "3.7.1"
  }
 },
 "nbformat": 4,
 "nbformat_minor": 2
}
