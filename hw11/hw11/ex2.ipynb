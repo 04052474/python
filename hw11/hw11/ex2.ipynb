{
 "cells": [
  {
   "cell_type": "code",
   "execution_count": 17,
   "metadata": {},
   "outputs": [],
   "source": [
    "from tkinter import *\n",
    "def ans(operand):  \n",
    "    global op\n",
    "    if operand!=5:\n",
    "        op=operand\n",
    "    if op==1:\n",
    "        n3.set(n1.get()+n2.get())\n",
    "    if op==2:\n",
    "        n3.set(n1.get()-n2.get())\n",
    "    if op==3:\n",
    "        n3.set(n1.get()*n2.get())\n",
    "    if op==4:    \n",
    "        n3.set(n1.get()/n2.get())\n",
    "    if operand==5:\n",
    "        n4.set(n3.get())\n",
    "window = Tk()\n",
    "window.title(\"ex2\")                     # 視窗標題\n",
    "\n",
    "n1 = IntVar()                   \n",
    "n2 = IntVar()\n",
    "n3 = IntVar()\n",
    "n4 = IntVar()\n",
    "op = IntVar()\n",
    "e1 = Entry(window,width=8,textvariable=n1)                 # 文字方塊1\n",
    "btn1 = Button(window,width=5,text='+',command=lambda:ans(1))                         # 加號\n",
    "btn2 = Button(window,width=5,text='-',command=lambda:ans(2)) \n",
    "btn3 = Button(window,width=5,text='*',command=lambda:ans(3)) \n",
    "btn4 = Button(window,width=5,text='/',command=lambda:ans(4)) \n",
    "e2 = Entry(window,width=8,textvariable=n2)                  # 文字方塊2\n",
    "btn = Button(window,width=5,text='=',command=lambda:ans(5))   # =按鈕\n",
    "e3 = Entry(window,width=8,textvariable=n4)                  # 儲存結果文字方塊\n",
    "\n",
    "e1.grid(row=2,column=0)                     # 定位文字方塊1\n",
    "btn1.grid(row=0,column=1)\n",
    "btn2.grid(row=1,column=1) \n",
    "btn3.grid(row=2,column=1) \n",
    "btn4.grid(row=3,column=1) # 定位加號\n",
    "e2.grid(row=2,column=2)                     # 定位文字方塊2\n",
    "btn.grid(row=2,column=3)                    # 定位=按鈕\n",
    "e3.grid(row=2,column=4)                     # 定位儲存結果\n",
    "\n",
    "window.mainloop()\n"
   ]
  },
  {
   "cell_type": "code",
   "execution_count": null,
   "metadata": {},
   "outputs": [],
   "source": []
  },
  {
   "cell_type": "code",
   "execution_count": null,
   "metadata": {},
   "outputs": [],
   "source": []
  }
 ],
 "metadata": {
  "kernelspec": {
   "display_name": "Python 3",
   "language": "python",
   "name": "python3"
  },
  "language_info": {
   "codemirror_mode": {
    "name": "ipython",
    "version": 3
   },
   "file_extension": ".py",
   "mimetype": "text/x-python",
   "name": "python",
   "nbconvert_exporter": "python",
   "pygments_lexer": "ipython3",
   "version": "3.7.1"
  }
 },
 "nbformat": 4,
 "nbformat_minor": 2
}
