{
 "cells": [
  {
   "cell_type": "code",
   "execution_count": 20,
   "metadata": {},
   "outputs": [
    {
     "name": "stdout",
     "output_type": "stream",
     "text": [
      "[[2 3 5 3]\n",
      " [1 3 4 6]]\n",
      "[[ 0  1  2  3  4  5  6  7  8]\n",
      " [ 9 10 11 12 13 14 15 16 17]]\n",
      "[[ 0  1  2  3  4  5  6  7  8  9]\n",
      " [10 11 12 13 14 15 16 17 18 19]]\n"
     ]
    }
   ],
   "source": [
    "import numpy as np\n",
    "def trans1Dto2D(arr):\n",
    "    H2 = np.hsplit(arr,2) \n",
    "    H2=np.array(H2)\n",
    "    print(H2)\n",
    "    #a=arr.reshape(2,-1) 老師寫\n",
    "    #print(a)\n",
    "trans1Dto2D(np.array([2,3,5,3,1,3,4,6]))\n",
    "trans1Dto2D(np.arange(18))\n",
    "trans1Dto2D(np.arange(20))"
   ]
  }
 ],
 "metadata": {
  "kernelspec": {
   "display_name": "Python 3",
   "language": "python",
   "name": "python3"
  },
  "language_info": {
   "codemirror_mode": {
    "name": "ipython",
    "version": 3
   },
   "file_extension": ".py",
   "mimetype": "text/x-python",
   "name": "python",
   "nbconvert_exporter": "python",
   "pygments_lexer": "ipython3",
   "version": "3.7.1"
  }
 },
 "nbformat": 4,
 "nbformat_minor": 2
}
